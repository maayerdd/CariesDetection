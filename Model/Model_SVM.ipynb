{
 "cells": [
  {
   "cell_type": "markdown",
   "metadata": {},
   "source": [
    "**Notebook Model Support Vector Machine (SVM)**\n",
    "\n",
    "Notebook ini berisi langkah-langkah pembuatan model Support Vector Machine (SVM) untuk melakukan deteksi dini terhadap karies gigi menggunakan sensor AS7262. Data yang digunakan merupakan intensitas cahaya emisi dari campuran sampel saliva pasien dengan larutan kurkumin yang disinari dengan sumber eksitasi LED UV. \n",
    "\n",
    "Data pada penelitian ini terdiri dari enam channel panjang gelombang sensor AS7262 dengan panjang gelombang  450, 500, 550, 570, 600 dan 650 nm serta jenis klasifikasinya (sehat dan karies)."
   ]
  },
  {
   "cell_type": "code",
   "execution_count": 1,
   "metadata": {},
   "outputs": [
    {
     "name": "stdout",
     "output_type": "stream",
     "text": [
      "Parameter Terbaik: {'C': 10, 'gamma': 'scale', 'kernel': 'rbf'}\n",
      "Laporan Klasifikasi:\n",
      "              precision    recall  f1-score   support\n",
      "\n",
      "      karies       0.83      0.56      0.67         9\n",
      "       sehat       0.64      0.88      0.74         8\n",
      "\n",
      "    accuracy                           0.71        17\n",
      "   macro avg       0.73      0.72      0.70        17\n",
      "weighted avg       0.74      0.71      0.70        17\n",
      "\n"
     ]
    },
    {
     "data": {
      "image/png": "[encoded data removed]",
      "text/plain": [
       "<Figure size 800x600 with 2 Axes>"
      ]
     },
     "metadata": {},
     "output_type": "display_data"
    }
   ],
   "source": [
    "import pandas as pd\n",
    "from sklearn.svm import SVC\n",
    "from sklearn.model_selection import train_test_split, GridSearchCV\n",
    "from sklearn.metrics import classification_report, confusion_matrix, accuracy_score\n",
    "from sklearn.preprocessing import LabelEncoder\n",
    "import seaborn as sns\n",
    "import matplotlib.pyplot as plt\n",
    "import numpy as np\n",
    "\n",
    "# Membaca data dari file CSV\n",
    "df = pd.read_csv(r'D:\\Mine\\Kuliah\\Tugas_Akhir\\Program\\Fix\\5_Tetes\\5tetes_normalisasi_oversampled.csv')\n",
    "# Memisahkan fitur (X) dan label (y)\n",
    "X = df[['Ungu', 'Biru', 'Hijau', 'Kuning', 'Oranye', 'Merah']].values\n",
    "y = df['label'].values\n",
    "# Mengatur urutan kelas sesuai tingkat keparahan karies\n",
    "label_order = ['sehat', 'karies']\n",
    "# Mengubah label menjadi nilai numerik\n",
    "label_encoder = LabelEncoder()\n",
    "y = label_encoder.fit_transform(y)\n",
    "# Membagi data menjadi data latih dan data uji\n",
    "X_train, X_test, y_train, y_test = train_test_split(X, y, test_size=0.3, random_state=4, stratify=y)\n",
    "# Membuat objek klasifikasi SVM\n",
    "svm_model = SVC()\n",
    "# Membuat parameter grid untuk mendapatkan parameter terbaik\n",
    "param_grid = {\n",
    "    'kernel': ['rbf'],\n",
    "    'C': [0.01, 0.1, 1, 10, 100],\n",
    "    'gamma': ['scale', 'auto']\n",
    "}\n",
    "# Membuat objek GridSearchCV dengan scoring='accuracy'\n",
    "grid_search = GridSearchCV(estimator=svm_model, param_grid=param_grid, cv=5, scoring='accuracy')\n",
    "\n",
    "# Melakukan grid search untuk mencari parameter terbaik\n",
    "grid_search.fit(X_train, y_train)\n",
    "# Mendapatkan parameter terbaik\n",
    "best_params = grid_search.best_params_\n",
    "print(\"Parameter Terbaik:\", best_params)\n",
    "# Membuat model SVM dengan parameter terbaik\n",
    "best_svm_model = SVC(kernel=best_params['kernel'], C=best_params['C'], gamma=best_params['gamma'])\n",
    "# Melatih model dengan parameter terbaik menggunakan data latih\n",
    "best_svm_model.fit(X_train, y_train)\n",
    "\n",
    "# Memprediksi kelas pada data uji\n",
    "y_pred = best_svm_model.predict(X_test)\n",
    "\n",
    "# Mengubah label kembali ke bentuk asli\n",
    "y_test = label_encoder.inverse_transform(y_test)\n",
    "y_pred = label_encoder.inverse_transform(y_pred)\n",
    "\n",
    "# Menampilkan classification report\n",
    "print(\"Laporan Klasifikasi:\")\n",
    "print(classification_report(y_test, y_pred))\n",
    "\n",
    "# Membuat Confusion Matrix\n",
    "cm = confusion_matrix(y_test, y_pred, labels=label_order)\n",
    "\n",
    "# Menampilkan Confusion Matrix dalam bentuk heatmap\n",
    "plt.figure(figsize=(8, 6))\n",
    "sns.heatmap(cm, annot=True, cmap='Blues', xticklabels=label_order, yticklabels=label_order)\n",
    "plt.xlabel('Prediksi')\n",
    "plt.ylabel('Aktual')\n",
    "plt.title('Confusion Matrix')\n",
    "plt.show()\n"
   ]
  },
  {
   "cell_type": "markdown",
   "metadata": {},
   "source": [
    "Bagian ini digunakan untuk menguji model dengan data baru yang tidak ada hubungannya dengan proses pelatihan."
   ]
  },
  {
   "cell_type": "code",
   "execution_count": null,
   "metadata": {},
   "outputs": [],
   "source": [
    "import pandas as pd\n",
    "from sklearn.svm import SVC\n",
    "from sklearn.preprocessing import MinMaxScaler\n",
    "from sklearn.preprocessing import LabelEncoder\n",
    "from sklearn.model_selection import train_test_split\n",
    "\n",
    "# Membaca data dari file CSV\n",
    "df = pd.read_csv(r'D:\\Mine\\Kuliah\\Tugas_Akhir\\Program\\Fix\\5_Tetes\\5tetes_normalisasi_oversampled.csv')\n",
    "\n",
    "# Memisahkan fitur (X) dan label (y)\n",
    "X = df[['Ungu', 'Biru', 'Hijau', 'Kuning', 'Oranye', 'Merah']].values\n",
    "y = df['label'].values\n",
    "\n",
    "# Mengatur urutan kelas sesuai tingkat keparahan karies\n",
    "label_order = ['sehat', 'karies']\n",
    "\n",
    "# Mengubah label menjadi nilai numerik\n",
    "label_encoder = LabelEncoder()\n",
    "y = label_encoder.fit_transform(y)\n",
    "\n",
    "# Normalisasi data menggunakan MinMaxScaler\n",
    "scaler = MinMaxScaler()\n",
    "X_scaled = scaler.fit_transform(X)\n",
    "\n",
    "# Membagi data menjadi data latih dan data uji\n",
    "X_train, X_test, y_train, y_test = train_test_split(X_scaled, y, test_size=0.3, random_state=4, stratify=y)\n",
    "\n",
    "# Membuat objek klasifikasi SVM\n",
    "svm_model = SVC(kernel='rbf', C=1, gamma='scale')\n",
    "\n",
    "# Melatih model menggunakan data latih\n",
    "svm_model.fit(X_train, y_train)\n",
    "\n",
    "# Menerima input dari pengguna untuk fitur-fitur dipisahkan koma\n",
    "features = input(\"Masukkan nilai untuk setiap fitur dipisahkan koma: \")\n",
    "feature_values = features.split(\",\")\n",
    "\n",
    "# Memastikan jumlah fitur yang dimasukkan sesuai dengan yang diharapkan\n",
    "if len(feature_values) != 6:\n",
    "    print(\"Jumlah fitur yang dimasukkan tidak sesuai!\")\n",
    "    exit()\n",
    "\n",
    "# Mengubah nilai fitur menjadi float dan memasukkannya ke dalam array\n",
    "input_data = [[float(value) for value in feature_values]]\n",
    "\n",
    "# Normalisasi data input menggunakan MinMaxScaler\n",
    "input_data_scaled = scaler.transform(input_data)\n",
    "\n",
    "# Melakukan prediksi menggunakan model\n",
    "prediction = svm_model.predict(input_data_scaled)\n",
    "\n",
    "# Mengubah label prediksi menjadi bentuk asli\n",
    "predicted_class = label_encoder.inverse_transform(prediction)\n",
    "\n",
    "print(\"Hasil Prediksi:\", predicted_class)\n"
   ]
  }
 ],
 "metadata": {
  "kernelspec": {
   "display_name": "Python 3.8.0 ('venv': venv)",
   "language": "python",
   "name": "python3"
  },
  "language_info": {
   "codemirror_mode": {
    "name": "ipython",
    "version": 3
   },
   "file_extension": ".py",
   "mimetype": "text/x-python",
   "name": "python",
   "nbconvert_exporter": "python",
   "pygments_lexer": "ipython3",
   "version": "3.8.0"
  },
  "orig_nbformat": 4,
  "vscode": {
   "interpreter": {
    "hash": "67e60029cd40b61011d05ca71fed36f2210e52509fb34deab47304750a201bd3"
   }
  }
 },
 "nbformat": 4,
 "nbformat_minor": 2
}
